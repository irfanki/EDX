{
 "cells": [
  {
   "cell_type": "markdown",
   "metadata": {},
   "source": [
    "# DAT210x - Programming with Python for DS"
   ]
  },
  {
   "cell_type": "markdown",
   "metadata": {},
   "source": [
    "## Module6- Lab1"
   ]
  },
  {
   "cell_type": "code",
   "execution_count": 178,
   "metadata": {
    "collapsed": true
   },
   "outputs": [],
   "source": [
    "import matplotlib as mpl\n",
    "import matplotlib.pyplot as plt\n",
    "%matplotlib inline\n",
    "\n",
    "import pandas as pd\n",
    "import numpy as np \n",
    "import time"
   ]
  },
  {
   "cell_type": "markdown",
   "metadata": {
    "collapsed": true
   },
   "source": [
    "Feel free to adjust and experiment with these parameters after you have completed the lab:"
   ]
  },
  {
   "cell_type": "code",
   "execution_count": 179,
   "metadata": {
    "collapsed": true
   },
   "outputs": [],
   "source": [
    "C = 1\n",
    "kernel = 'linear'"
   ]
  },
  {
   "cell_type": "code",
   "execution_count": 180,
   "metadata": {
    "collapsed": true
   },
   "outputs": [],
   "source": [
    "# TODO: Change to 200000 once you get to Question#2\n",
    "iterations = 20000\n",
    "\n",
    "# You can set this to false if you want to draw the full square matrix:\n",
    "FAST_DRAW = True"
   ]
  },
  {
   "cell_type": "markdown",
   "metadata": {},
   "source": [
    "### Convenience Functions"
   ]
  },
  {
   "cell_type": "code",
   "execution_count": 181,
   "metadata": {
    "collapsed": true
   },
   "outputs": [],
   "source": [
    "def drawPlots(model, X_train, X_test, y_train, y_test, wintitle='Figure 1'):\n",
    "    # You can use this to break any higher-dimensional space down,\n",
    "    # And view cross sections of it.\n",
    "\n",
    "    # If this line throws an error, use plt.style.use('ggplot') instead\n",
    "    mpl.style.use('ggplot') # Look Pretty\n",
    "\n",
    "    padding = 3\n",
    "    resolution = 0.5\n",
    "    max_2d_score = 0\n",
    "\n",
    "    y_colors = ['#ff0000', '#00ff00', '#0000ff']\n",
    "    my_cmap  = mpl.colors.ListedColormap(['#ffaaaa', '#aaffaa', '#aaaaff'])\n",
    "    colors   = [y_colors[i] for i in y_train]\n",
    "    num_columns = len(X_train.columns)\n",
    "\n",
    "    fig = plt.figure()\n",
    "    fig.canvas.set_window_title(wintitle)\n",
    "    fig.set_tight_layout(True)\n",
    "    \n",
    "    cnt = 0\n",
    "    for col in range(num_columns):\n",
    "        for row in range(num_columns):\n",
    "            \n",
    "            # Easy out\n",
    "            if FAST_DRAW and col > row:\n",
    "                cnt += 1\n",
    "                continue\n",
    "\n",
    "            ax = plt.subplot(num_columns, num_columns, cnt + 1)\n",
    "            plt.xticks(())\n",
    "            plt.yticks(())\n",
    "\n",
    "            # Intersection:\n",
    "            if col == row:\n",
    "                plt.text(0.5, 0.5, X_train.columns[row], verticalalignment='center', horizontalalignment='center', fontsize=12)\n",
    "                cnt += 1\n",
    "                continue\n",
    "\n",
    "\n",
    "            # Only select two features to display, then train the model\n",
    "            X_train_bag = X_train.ix[:, [row,col]]\n",
    "            X_test_bag = X_test.ix[:, [row,col]]\n",
    "            model.fit(X_train_bag, y_train)\n",
    "\n",
    "            # Create a mesh to plot in\n",
    "            x_min, x_max = X_train_bag.ix[:, 0].min() - padding, X_train_bag.ix[:, 0].max() + padding\n",
    "            y_min, y_max = X_train_bag.ix[:, 1].min() - padding, X_train_bag.ix[:, 1].max() + padding\n",
    "            xx, yy = np.meshgrid(np.arange(x_min, x_max, resolution),\n",
    "                                 np.arange(y_min, y_max, resolution))\n",
    "\n",
    "            # Plot Boundaries\n",
    "            plt.xlim(xx.min(), xx.max())\n",
    "            plt.ylim(yy.min(), yy.max())\n",
    "\n",
    "            # Prepare the contour\n",
    "            Z = model.predict(np.c_[xx.ravel(), yy.ravel()])\n",
    "            Z = Z.reshape(xx.shape)\n",
    "            plt.contourf(xx, yy, Z, cmap=my_cmap, alpha=0.8)\n",
    "            plt.scatter(X_train_bag.ix[:, 0], X_train_bag.ix[:, 1], c=colors, alpha=0.5)\n",
    "\n",
    "\n",
    "            score = round(model.score(X_test_bag, y_test) * 100, 3)\n",
    "            plt.text(0.5, 0, \"Score: {0}\".format(score), transform = ax.transAxes, horizontalalignment='center', fontsize=8)\n",
    "            max_2d_score = score if score > max_2d_score else max_2d_score\n",
    "\n",
    "            cnt += 1\n",
    "\n",
    "    print(\"Max 2D Score: \", max_2d_score)"
   ]
  },
  {
   "cell_type": "code",
   "execution_count": 182,
   "metadata": {},
   "outputs": [],
   "source": [
    "def benchmark(model, X_train, X_test, y_train, y_test, wintitle='Figure 1'):\n",
    "    print(wintitle + ' Results')\n",
    "    s = time.time()\n",
    "    print(y_train)\n",
    "    \n",
    "    for i in range(iterations):\n",
    "        # TODO: train the classifier on the training data / labels:\n",
    "        \n",
    "        # .. your code here ..\n",
    "        model.fit(X_train, y_train) \n",
    "        \n",
    "    print(\"{0} Iterations Training Time: \".format(iterations), time.time() - s)\n",
    "\n",
    "\n",
    "    s = time.time()\n",
    "    for i in range(iterations):\n",
    "        # TODO: score the classifier on the testing data / labels:\n",
    "\n",
    "        # .. your code here ..\n",
    "        score=model.score(X_test, y_test) \n",
    "    print(\"{0} Iterations Scoring Time: \".format(iterations), time.time() - s)\n",
    "    print(\"High-Dimensionality Score: \", round((score*100), 3))"
   ]
  },
  {
   "cell_type": "markdown",
   "metadata": {},
   "source": [
    "### The Assignment"
   ]
  },
  {
   "cell_type": "markdown",
   "metadata": {},
   "source": [
    "Load up the wheat dataset into dataframe `X` and verify you did it properly. Indices shouldn't be doubled, nor should you have any headers with weird characters..."
   ]
  },
  {
   "cell_type": "code",
   "execution_count": 183,
   "metadata": {},
   "outputs": [
    {
     "data": {
      "text/html": [
       "<div>\n",
       "<style>\n",
       "    .dataframe thead tr:only-child th {\n",
       "        text-align: right;\n",
       "    }\n",
       "\n",
       "    .dataframe thead th {\n",
       "        text-align: left;\n",
       "    }\n",
       "\n",
       "    .dataframe tbody tr th {\n",
       "        vertical-align: top;\n",
       "    }\n",
       "</style>\n",
       "<table border=\"1\" class=\"dataframe\">\n",
       "  <thead>\n",
       "    <tr style=\"text-align: right;\">\n",
       "      <th></th>\n",
       "      <th>area</th>\n",
       "      <th>perimeter</th>\n",
       "      <th>compactness</th>\n",
       "      <th>length</th>\n",
       "      <th>width</th>\n",
       "      <th>asymmetry</th>\n",
       "      <th>groove</th>\n",
       "      <th>wheat_type</th>\n",
       "    </tr>\n",
       "    <tr>\n",
       "      <th>id</th>\n",
       "      <th></th>\n",
       "      <th></th>\n",
       "      <th></th>\n",
       "      <th></th>\n",
       "      <th></th>\n",
       "      <th></th>\n",
       "      <th></th>\n",
       "      <th></th>\n",
       "    </tr>\n",
       "  </thead>\n",
       "  <tbody>\n",
       "    <tr>\n",
       "      <th>0</th>\n",
       "      <td>15.26</td>\n",
       "      <td>14.84</td>\n",
       "      <td>0.8710</td>\n",
       "      <td>5.763</td>\n",
       "      <td>3.312</td>\n",
       "      <td>2.221</td>\n",
       "      <td>5.220</td>\n",
       "      <td>kama</td>\n",
       "    </tr>\n",
       "    <tr>\n",
       "      <th>1</th>\n",
       "      <td>14.88</td>\n",
       "      <td>14.57</td>\n",
       "      <td>0.8811</td>\n",
       "      <td>5.554</td>\n",
       "      <td>3.333</td>\n",
       "      <td>1.018</td>\n",
       "      <td>4.956</td>\n",
       "      <td>kama</td>\n",
       "    </tr>\n",
       "    <tr>\n",
       "      <th>2</th>\n",
       "      <td>14.29</td>\n",
       "      <td>14.09</td>\n",
       "      <td>0.9050</td>\n",
       "      <td>5.291</td>\n",
       "      <td>3.337</td>\n",
       "      <td>2.699</td>\n",
       "      <td>4.825</td>\n",
       "      <td>kama</td>\n",
       "    </tr>\n",
       "    <tr>\n",
       "      <th>3</th>\n",
       "      <td>13.84</td>\n",
       "      <td>13.94</td>\n",
       "      <td>0.8955</td>\n",
       "      <td>5.324</td>\n",
       "      <td>3.379</td>\n",
       "      <td>2.259</td>\n",
       "      <td>4.805</td>\n",
       "      <td>kama</td>\n",
       "    </tr>\n",
       "    <tr>\n",
       "      <th>4</th>\n",
       "      <td>16.14</td>\n",
       "      <td>14.99</td>\n",
       "      <td>0.9034</td>\n",
       "      <td>5.658</td>\n",
       "      <td>3.562</td>\n",
       "      <td>1.355</td>\n",
       "      <td>5.175</td>\n",
       "      <td>kama</td>\n",
       "    </tr>\n",
       "  </tbody>\n",
       "</table>\n",
       "</div>"
      ],
      "text/plain": [
       "     area  perimeter  compactness  length  width  asymmetry  groove wheat_type\n",
       "id                                                                            \n",
       "0   15.26      14.84       0.8710   5.763  3.312      2.221   5.220       kama\n",
       "1   14.88      14.57       0.8811   5.554  3.333      1.018   4.956       kama\n",
       "2   14.29      14.09       0.9050   5.291  3.337      2.699   4.825       kama\n",
       "3   13.84      13.94       0.8955   5.324  3.379      2.259   4.805       kama\n",
       "4   16.14      14.99       0.9034   5.658  3.562      1.355   5.175       kama"
      ]
     },
     "execution_count": 183,
     "metadata": {},
     "output_type": "execute_result"
    }
   ],
   "source": [
    "# .. your code here ..\n",
    "X=pd.read_csv('Datasets/wheat.data', index_col=0)\n",
    "X.head()\n"
   ]
  },
  {
   "cell_type": "code",
   "execution_count": 184,
   "metadata": {},
   "outputs": [
    {
     "data": {
      "text/html": [
       "<div>\n",
       "<style>\n",
       "    .dataframe thead tr:only-child th {\n",
       "        text-align: right;\n",
       "    }\n",
       "\n",
       "    .dataframe thead th {\n",
       "        text-align: left;\n",
       "    }\n",
       "\n",
       "    .dataframe tbody tr th {\n",
       "        vertical-align: top;\n",
       "    }\n",
       "</style>\n",
       "<table border=\"1\" class=\"dataframe\">\n",
       "  <thead>\n",
       "    <tr style=\"text-align: right;\">\n",
       "      <th></th>\n",
       "      <th>area</th>\n",
       "      <th>perimeter</th>\n",
       "      <th>compactness</th>\n",
       "      <th>length</th>\n",
       "      <th>width</th>\n",
       "      <th>asymmetry</th>\n",
       "      <th>groove</th>\n",
       "      <th>wheat_type</th>\n",
       "    </tr>\n",
       "    <tr>\n",
       "      <th>id</th>\n",
       "      <th></th>\n",
       "      <th></th>\n",
       "      <th></th>\n",
       "      <th></th>\n",
       "      <th></th>\n",
       "      <th></th>\n",
       "      <th></th>\n",
       "      <th></th>\n",
       "    </tr>\n",
       "  </thead>\n",
       "  <tbody>\n",
       "    <tr>\n",
       "      <th>7</th>\n",
       "      <td>14.11</td>\n",
       "      <td>14.10</td>\n",
       "      <td>0.8911</td>\n",
       "      <td>5.4200</td>\n",
       "      <td>3.302</td>\n",
       "      <td>2.700</td>\n",
       "      <td>NaN</td>\n",
       "      <td>canadian</td>\n",
       "    </tr>\n",
       "    <tr>\n",
       "      <th>35</th>\n",
       "      <td>16.12</td>\n",
       "      <td>15.00</td>\n",
       "      <td>NaN</td>\n",
       "      <td>0.9000</td>\n",
       "      <td>NaN</td>\n",
       "      <td>5.709</td>\n",
       "      <td>3.485</td>\n",
       "      <td>canadian</td>\n",
       "    </tr>\n",
       "    <tr>\n",
       "      <th>60</th>\n",
       "      <td>11.42</td>\n",
       "      <td>12.86</td>\n",
       "      <td>0.8683</td>\n",
       "      <td>5.0080</td>\n",
       "      <td>2.850</td>\n",
       "      <td>2.700</td>\n",
       "      <td>NaN</td>\n",
       "      <td>canadian</td>\n",
       "    </tr>\n",
       "    <tr>\n",
       "      <th>135</th>\n",
       "      <td>15.38</td>\n",
       "      <td>14.66</td>\n",
       "      <td>0.8990</td>\n",
       "      <td>5.4770</td>\n",
       "      <td>3.465</td>\n",
       "      <td>3.600</td>\n",
       "      <td>NaN</td>\n",
       "      <td>canadian</td>\n",
       "    </tr>\n",
       "    <tr>\n",
       "      <th>169</th>\n",
       "      <td>11.24</td>\n",
       "      <td>13.00</td>\n",
       "      <td>NaN</td>\n",
       "      <td>0.8359</td>\n",
       "      <td>5.090</td>\n",
       "      <td>2.715</td>\n",
       "      <td>3.521</td>\n",
       "      <td>canadian</td>\n",
       "    </tr>\n",
       "    <tr>\n",
       "      <th>170</th>\n",
       "      <td>11.02</td>\n",
       "      <td>13.00</td>\n",
       "      <td>NaN</td>\n",
       "      <td>0.8189</td>\n",
       "      <td>5.325</td>\n",
       "      <td>2.701</td>\n",
       "      <td>6.735</td>\n",
       "      <td>canadian</td>\n",
       "    </tr>\n",
       "    <tr>\n",
       "      <th>201</th>\n",
       "      <td>12.67</td>\n",
       "      <td>13.32</td>\n",
       "      <td>0.8977</td>\n",
       "      <td>4.9840</td>\n",
       "      <td>3.135</td>\n",
       "      <td>2.300</td>\n",
       "      <td>NaN</td>\n",
       "      <td>canadian</td>\n",
       "    </tr>\n",
       "  </tbody>\n",
       "</table>\n",
       "</div>"
      ],
      "text/plain": [
       "      area  perimeter  compactness  length  width  asymmetry  groove  \\\n",
       "id                                                                     \n",
       "7    14.11      14.10       0.8911  5.4200  3.302      2.700     NaN   \n",
       "35   16.12      15.00          NaN  0.9000    NaN      5.709   3.485   \n",
       "60   11.42      12.86       0.8683  5.0080  2.850      2.700     NaN   \n",
       "135  15.38      14.66       0.8990  5.4770  3.465      3.600     NaN   \n",
       "169  11.24      13.00          NaN  0.8359  5.090      2.715   3.521   \n",
       "170  11.02      13.00          NaN  0.8189  5.325      2.701   6.735   \n",
       "201  12.67      13.32       0.8977  4.9840  3.135      2.300     NaN   \n",
       "\n",
       "    wheat_type  \n",
       "id              \n",
       "7     canadian  \n",
       "35    canadian  \n",
       "60    canadian  \n",
       "135   canadian  \n",
       "169   canadian  \n",
       "170   canadian  \n",
       "201   canadian  "
      ]
     },
     "execution_count": 184,
     "metadata": {},
     "output_type": "execute_result"
    }
   ],
   "source": [
    "# An easy way to show which rows have nans in them:\n",
    "X[pd.isnull(X).any(axis=1)]"
   ]
  },
  {
   "cell_type": "markdown",
   "metadata": {},
   "source": [
    "Go ahead and drop any row with a nan:"
   ]
  },
  {
   "cell_type": "code",
   "execution_count": 185,
   "metadata": {},
   "outputs": [],
   "source": [
    "# .. your code here ..\n",
    "X=X.dropna(axis=0)"
   ]
  },
  {
   "cell_type": "markdown",
   "metadata": {},
   "source": [
    "In the future, you might try setting the nan values to the mean value of that column, the mean should only be calculated for the specific class rather than across all classes, now that you have the labels."
   ]
  },
  {
   "cell_type": "markdown",
   "metadata": {},
   "source": [
    "Copy the labels out of the dataframe into variable `y`, then remove them from `X`.\n",
    "\n",
    "Encode the labels, using the `.map()` trick we showed you in Module 5, such that `canadian:0`, `kama:1`, and `rosa:2`."
   ]
  },
  {
   "cell_type": "code",
   "execution_count": 186,
   "metadata": {},
   "outputs": [],
   "source": [
    "# .. your code here ..\n",
    "\n",
    "y = X.loc[:, 'wheat_type'].map({'canadian': 0, 'kama': 1, 'rosa': 2})\n",
    "X=X.drop('wheat_type',axis=1)\n",
    "\n"
   ]
  },
  {
   "cell_type": "markdown",
   "metadata": {},
   "source": [
    "Split your data into a `test` and `train` set. Your `test` size should be 30% with `random_state` 7. Please use variable names: `X_train`, `X_test`, `y_train`, and `y_test`:"
   ]
  },
  {
   "cell_type": "code",
   "execution_count": 187,
   "metadata": {},
   "outputs": [],
   "source": [
    "# .. your code here ..\n",
    "from sklearn.model_selection import train_test_split\n",
    "\n",
    "X_train, X_test, y_train, y_test = train_test_split(X, y, test_size=0.3, random_state=7)\n"
   ]
  },
  {
   "cell_type": "markdown",
   "metadata": {},
   "source": [
    "Create an SVC classifier named `svc` and use a linear kernel. You already have `C` defined at the top of the lab, so just set `C=C`."
   ]
  },
  {
   "cell_type": "code",
   "execution_count": 188,
   "metadata": {
    "collapsed": true
   },
   "outputs": [],
   "source": [
    "# .. your code here ..\n",
    "from sklearn.svm import SVC\n",
    "svc = SVC(kernel='linear',C=C)"
   ]
  },
  {
   "cell_type": "markdown",
   "metadata": {},
   "source": [
    "Create an KNeighbors classifier named `knn` and set the neighbor count to `5`:"
   ]
  },
  {
   "cell_type": "code",
   "execution_count": 189,
   "metadata": {
    "collapsed": true
   },
   "outputs": [],
   "source": [
    "# .. your code here ..\n",
    "from sklearn.neighbors import KNeighborsClassifier\n",
    "\n",
    "knn = KNeighborsClassifier(n_neighbors=5)"
   ]
  },
  {
   "cell_type": "markdown",
   "metadata": {},
   "source": [
    "### Fire it Up:"
   ]
  },
  {
   "cell_type": "code",
   "execution_count": 190,
   "metadata": {},
   "outputs": [
    {
     "name": "stdout",
     "output_type": "stream",
     "text": [
      "KNeighbors Results\n",
      "id\n",
      "61     1\n",
      "116    2\n",
      "154    0\n",
      "38     1\n",
      "194    0\n",
      "185    0\n",
      "53     1\n",
      "176    0\n",
      "144    0\n",
      "85     2\n",
      "118    2\n",
      "98     2\n",
      "39     1\n",
      "136    2\n",
      "105    2\n",
      "101    2\n",
      "51     1\n",
      "5      1\n",
      "18     1\n",
      "165    0\n",
      "177    0\n",
      "184    0\n",
      "204    0\n",
      "65     1\n",
      "67     1\n",
      "27     1\n",
      "152    0\n",
      "43     1\n",
      "54     1\n",
      "209    0\n",
      "      ..\n",
      "156    0\n",
      "58     1\n",
      "72     2\n",
      "46     1\n",
      "20     1\n",
      "6      1\n",
      "57     1\n",
      "78     2\n",
      "0      1\n",
      "178    0\n",
      "139    2\n",
      "130    2\n",
      "182    0\n",
      "71     2\n",
      "173    0\n",
      "140    0\n",
      "44     1\n",
      "113    2\n",
      "92     2\n",
      "75     2\n",
      "24     1\n",
      "146    0\n",
      "191    0\n",
      "95     2\n",
      "106    0\n",
      "155    0\n",
      "70     2\n",
      "26     1\n",
      "203    0\n",
      "181    0\n",
      "Name: wheat_type, Length: 142, dtype: int64\n",
      "20000 Iterations Training Time:  10.52512526512146\n",
      "20000 Iterations Scoring Time:  18.66325569152832\n",
      "High-Dimensionality Score:  83.607\n"
     ]
    },
    {
     "name": "stderr",
     "output_type": "stream",
     "text": [
      "C:\\Users\\mirfa\\Anaconda3\\lib\\site-packages\\ipykernel_launcher.py:42: DeprecationWarning: \n",
      ".ix is deprecated. Please use\n",
      ".loc for label based indexing or\n",
      ".iloc for positional indexing\n",
      "\n",
      "See the documentation here:\n",
      "http://pandas.pydata.org/pandas-docs/stable/indexing.html#ix-indexer-is-deprecated\n",
      "C:\\Users\\mirfa\\Anaconda3\\lib\\site-packages\\ipykernel_launcher.py:43: DeprecationWarning: \n",
      ".ix is deprecated. Please use\n",
      ".loc for label based indexing or\n",
      ".iloc for positional indexing\n",
      "\n",
      "See the documentation here:\n",
      "http://pandas.pydata.org/pandas-docs/stable/indexing.html#ix-indexer-is-deprecated\n",
      "C:\\Users\\mirfa\\Anaconda3\\lib\\site-packages\\ipykernel_launcher.py:47: DeprecationWarning: \n",
      ".ix is deprecated. Please use\n",
      ".loc for label based indexing or\n",
      ".iloc for positional indexing\n",
      "\n",
      "See the documentation here:\n",
      "http://pandas.pydata.org/pandas-docs/stable/indexing.html#ix-indexer-is-deprecated\n"
     ]
    },
    {
     "name": "stdout",
     "output_type": "stream",
     "text": [
      "Max 2D Score:  90.164\n"
     ]
    },
    {
     "name": "stderr",
     "output_type": "stream",
     "text": [
      "C:\\Users\\mirfa\\Anaconda3\\lib\\site-packages\\matplotlib\\figure.py:1999: UserWarning: This figure includes Axes that are not compatible with tight_layout, so results might be incorrect.\n",
      "  warnings.warn(\"This figure includes Axes that are not compatible \"\n"
     ]
    },
    {
     "data": {
      "image/png": "[encoded data removed]",
      "text/plain": [
       "<matplotlib.figure.Figure at 0x20466a86550>"
      ]
     },
     "metadata": {},
     "output_type": "display_data"
    }
   ],
   "source": [
    "benchmark(knn, X_train, X_test, y_train, y_test, 'KNeighbors')\n",
    "drawPlots(knn, X_train, X_test, y_train, y_test, 'KNeighbors')"
   ]
  },
  {
   "cell_type": "code",
   "execution_count": 191,
   "metadata": {},
   "outputs": [
    {
     "name": "stdout",
     "output_type": "stream",
     "text": [
      "SVC Results\n",
      "id\n",
      "61     1\n",
      "116    2\n",
      "154    0\n",
      "38     1\n",
      "194    0\n",
      "185    0\n",
      "53     1\n",
      "176    0\n",
      "144    0\n",
      "85     2\n",
      "118    2\n",
      "98     2\n",
      "39     1\n",
      "136    2\n",
      "105    2\n",
      "101    2\n",
      "51     1\n",
      "5      1\n",
      "18     1\n",
      "165    0\n",
      "177    0\n",
      "184    0\n",
      "204    0\n",
      "65     1\n",
      "67     1\n",
      "27     1\n",
      "152    0\n",
      "43     1\n",
      "54     1\n",
      "209    0\n",
      "      ..\n",
      "156    0\n",
      "58     1\n",
      "72     2\n",
      "46     1\n",
      "20     1\n",
      "6      1\n",
      "57     1\n",
      "78     2\n",
      "0      1\n",
      "178    0\n",
      "139    2\n",
      "130    2\n",
      "182    0\n",
      "71     2\n",
      "173    0\n",
      "140    0\n",
      "44     1\n",
      "113    2\n",
      "92     2\n",
      "75     2\n",
      "24     1\n",
      "146    0\n",
      "191    0\n",
      "95     2\n",
      "106    0\n",
      "155    0\n",
      "70     2\n",
      "26     1\n",
      "203    0\n",
      "181    0\n",
      "Name: wheat_type, Length: 142, dtype: int64\n",
      "20000 Iterations Training Time:  17.423079013824463\n",
      "20000 Iterations Scoring Time:  8.910155296325684\n",
      "High-Dimensionality Score:  86.885\n"
     ]
    },
    {
     "name": "stderr",
     "output_type": "stream",
     "text": [
      "C:\\Users\\mirfa\\Anaconda3\\lib\\site-packages\\ipykernel_launcher.py:47: DeprecationWarning: \n",
      ".ix is deprecated. Please use\n",
      ".loc for label based indexing or\n",
      ".iloc for positional indexing\n",
      "\n",
      "See the documentation here:\n",
      "http://pandas.pydata.org/pandas-docs/stable/indexing.html#ix-indexer-is-deprecated\n"
     ]
    },
    {
     "name": "stdout",
     "output_type": "stream",
     "text": [
      "Max 2D Score:  93.443\n"
     ]
    },
    {
     "name": "stderr",
     "output_type": "stream",
     "text": [
      "C:\\Users\\mirfa\\Anaconda3\\lib\\site-packages\\matplotlib\\figure.py:1999: UserWarning: This figure includes Axes that are not compatible with tight_layout, so results might be incorrect.\n",
      "  warnings.warn(\"This figure includes Axes that are not compatible \"\n"
     ]
    },
    {
     "data": {
      "image/png": "[encoded data removed]",
      "text/plain": [
       "<matplotlib.figure.Figure at 0x2046697f4e0>"
      ]
     },
     "metadata": {},
     "output_type": "display_data"
    }
   ],
   "source": [
    "benchmark(svc, X_train, X_test, y_train, y_test, 'SVC')\n",
    "drawPlots(svc, X_train, X_test, y_train, y_test, 'SVC')"
   ]
  },
  {
   "cell_type": "code",
   "execution_count": 192,
   "metadata": {},
   "outputs": [],
   "source": [
    "plt.show()"
   ]
  },
  {
   "cell_type": "markdown",
   "metadata": {},
   "source": [
    "### Bonus:"
   ]
  },
  {
   "cell_type": "markdown",
   "metadata": {},
   "source": [
    "After submitting your answers, mess around with the gamma, kernel, and C values."
   ]
  },
  {
   "cell_type": "code",
   "execution_count": null,
   "metadata": {
    "collapsed": true
   },
   "outputs": [],
   "source": []
  }
 ],
 "metadata": {
  "anaconda-cloud": {},
  "kernelspec": {
   "display_name": "Python 3",
   "language": "python",
   "name": "python3"
  },
  "language_info": {
   "codemirror_mode": {
    "name": "ipython",
    "version": 3
   },
   "file_extension": ".py",
   "mimetype": "text/x-python",
   "name": "python",
   "nbconvert_exporter": "python",
   "pygments_lexer": "ipython3",
   "version": "3.6.3"
  },
  "toc": {
   "colors": {
    "hover_highlight": "#DAA520",
    "running_highlight": "#FF0000",
    "selected_highlight": "#FFD700"
   },
   "moveMenuLeft": true,
   "nav_menu": {
    "height": "58px",
    "width": "252px"
   },
   "navigate_menu": true,
   "number_sections": true,
   "sideBar": true,
   "threshold": 4,
   "toc_cell": false,
   "toc_section_display": "block",
   "toc_window_display": false,
   "widenNotebook": false
  }
 },
 "nbformat": 4,
 "nbformat_minor": 2
}
